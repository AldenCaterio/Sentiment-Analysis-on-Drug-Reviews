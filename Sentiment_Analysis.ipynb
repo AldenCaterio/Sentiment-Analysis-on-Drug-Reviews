{
 "cells": [
  {
   "cell_type": "markdown",
   "metadata": {
    "colab_type": "text",
    "id": "view-in-github"
   },
   "source": [
    "<a href=\"https://colab.research.google.com/github/TAlkam/Sentiment-Analysis-on-Drug-Reviews/blob/main/Sentiment_Analysis.ipynb\" target=\"_parent\"><img src=\"https://colab.research.google.com/assets/colab-badge.svg\" alt=\"Open In Colab\"/></a>"
   ]
  },
  {
   "cell_type": "markdown",
   "metadata": {
    "id": "Of_m8lhW16mN"
   },
   "source": [
    "Let's load these files and take a look at the data. We'll start with the training set."
   ]
  },
  {
   "cell_type": "code",
   "execution_count": 16,
   "metadata": {
    "colab": {
     "base_uri": "https://localhost:8080/",
     "height": 90
    },
    "id": "fDRRIcdAVSK5",
    "outputId": "3c3c7b55-f84e-472b-d534-1893f19d4304"
   },
   "outputs": [
    {
     "data": {
      "text/plain": [
       "'\\nfrom google.colab import files\\n\\nuploaded = files.upload()\\n\\nfor fn in uploaded.keys():\\n  print(\\'User uploaded file \"{name}\" with length {length} bytes\\'.format(\\n      name=fn, length=len(uploaded[fn])))\\n'"
      ]
     },
     "execution_count": 16,
     "metadata": {},
     "output_type": "execute_result"
    }
   ],
   "source": [
    "from google.colab import files\n",
    "\n",
    "uploaded = files.upload()\n",
    "\n",
    "for fn in uploaded.keys():\n",
    "  print('User uploaded file \"{name}\" with length {length} bytes'.format(\n",
    "      name=fn, length=len(uploaded[fn])))\n"
   ]
  },
  {
   "cell_type": "code",
   "execution_count": 17,
   "metadata": {
    "colab": {
     "base_uri": "https://localhost:8080/",
     "height": 90
    },
    "id": "kBOZlepiW4TR",
    "outputId": "248d3095-047f-4e6e-d65f-1962b6799e70"
   },
   "outputs": [
    {
     "data": {
      "text/plain": [
       "'\\nfrom google.colab import files\\n\\nuploaded = files.upload()\\n\\nfor fn in uploaded.keys():\\n  print(\\'User uploaded file \"{name}\" with length {length} bytes\\'.format(\\n      name=fn, length=len(uploaded[fn])))\\n\\n'"
      ]
     },
     "execution_count": 17,
     "metadata": {},
     "output_type": "execute_result"
    }
   ],
   "source": [
    "from google.colab import files\n",
    "\n",
    "uploaded = files.upload()\n",
    "\n",
    "for fn in uploaded.keys():\n",
    "  print('User uploaded file \"{name}\" with length {length} bytes'.format(\n",
    "      name=fn, length=len(uploaded[fn])))\n"
   ]
  },
  {
   "cell_type": "code",
   "execution_count": 4,
   "metadata": {
    "id": "JGoS0tIbV2OJ"
   },
   "outputs": [],
   "source": [
    "import pandas as pd\n",
    "\n",
    "# Load data into pandas DataFrames\n",
    "train_df = pd.read_csv('drugLibTrain_raw.tsv', delimiter='\\t')\n",
    "test_df = pd.read_csv('drugLibTest_raw.tsv', delimiter='\\t')"
   ]
  },
  {
   "cell_type": "markdown",
   "metadata": {
    "id": "5Jjpu3T53CJF"
   },
   "source": [
    " **Let's get an overview of the dataset including the column names, total number of entries, and the data type of each column**"
   ]
  },
  {
   "cell_type": "code",
   "execution_count": 5,
   "metadata": {
    "colab": {
     "base_uri": "https://localhost:8080/"
    },
    "id": "vPKjHjZs3Cm2",
    "outputId": "6b13914c-b790-46db-9c21-915fda7f885a"
   },
   "outputs": [
    {
     "name": "stdout",
     "output_type": "stream",
     "text": [
      "<class 'pandas.core.frame.DataFrame'>\n",
      "RangeIndex: 3107 entries, 0 to 3106\n",
      "Data columns (total 9 columns):\n",
      " #   Column             Non-Null Count  Dtype \n",
      "---  ------             --------------  ----- \n",
      " 0   Unnamed: 0         3107 non-null   int64 \n",
      " 1   urlDrugName        3107 non-null   object\n",
      " 2   rating             3107 non-null   int64 \n",
      " 3   effectiveness      3107 non-null   object\n",
      " 4   sideEffects        3107 non-null   object\n",
      " 5   condition          3106 non-null   object\n",
      " 6   benefitsReview     3107 non-null   object\n",
      " 7   sideEffectsReview  3105 non-null   object\n",
      " 8   commentsReview     3099 non-null   object\n",
      "dtypes: int64(2), object(7)\n",
      "memory usage: 218.6+ KB\n"
     ]
    }
   ],
   "source": [
    "# Information about the training dataset\n",
    "train_df.info()"
   ]
  },
  {
   "cell_type": "markdown",
   "metadata": {
    "id": "PIZ04vDM2aWR"
   },
   "source": [
    "**Add sentiment labels**\n",
    "\n",
    "Since the data does not come with predefined sentiment labels, we will need to define our own rules for labeling the sentiments. One approach could be to use the numerical rating feature to infer sentiment:\n",
    "\n",
    "We can define ratings of 7-10 as '**positive**',\n",
    "Ratings of 4-6 as '**neutral**',\n",
    "And ratings of 1-3 as '**negative**'.\n",
    "Alternatively, we could use the effectiveness and sideEffects categorical features to derive sentiment labels. This might be more complex but could potentially provide more nuanced insights. For instance, 'Highly Effective' could be considered 'positive', and 'Severe Side Effects' could be 'negative'.\n"
   ]
  },
  {
   "cell_type": "code",
   "execution_count": 6,
   "metadata": {
    "id": "HTMmG39mXBiJ"
   },
   "outputs": [],
   "source": [
    "# Define a function to convert ratings into sentiment labels\n",
    "def rating_to_sentiment(rating):\n",
    "    if rating >= 7:\n",
    "        return 'positive'\n",
    "    elif rating <= 3:\n",
    "        return 'negative'\n",
    "    else:\n",
    "        return 'neutral'\n",
    "\n",
    "# Apply the function to the rating column of both dataframes\n",
    "train_df['sentiment'] = train_df['rating'].apply(rating_to_sentiment)\n",
    "test_df['sentiment'] = test_df['rating'].apply(rating_to_sentiment)"
   ]
  },
  {
   "cell_type": "markdown",
   "metadata": {
    "id": "xgZPAmpf4aIt"
   },
   "source": [
    "**Preprocess the text**\n",
    "Before running this part, We need to install and import the necessary libraries"
   ]
  },
  {
   "cell_type": "code",
   "execution_count": 7,
   "metadata": {
    "colab": {
     "base_uri": "https://localhost:8080/"
    },
    "id": "OM6gRvcTXOTP",
    "outputId": "68f3b718-f2a0-4d59-a288-ca0c35900f4a"
   },
   "outputs": [
    {
     "name": "stderr",
     "output_type": "stream",
     "text": [
      "[nltk_data] Downloading package punkt to\n",
      "[nltk_data]     C:\\Users\\alden\\AppData\\Roaming\\nltk_data...\n",
      "[nltk_data]   Package punkt is already up-to-date!\n",
      "[nltk_data] Downloading package stopwords to\n",
      "[nltk_data]     C:\\Users\\alden\\AppData\\Roaming\\nltk_data...\n",
      "[nltk_data]   Package stopwords is already up-to-date!\n",
      "[nltk_data] Downloading package wordnet to\n",
      "[nltk_data]     C:\\Users\\alden\\AppData\\Roaming\\nltk_data...\n",
      "[nltk_data]   Package wordnet is already up-to-date!\n",
      "[nltk_data] Downloading package omw-1.4 to\n",
      "[nltk_data]     C:\\Users\\alden\\AppData\\Roaming\\nltk_data...\n",
      "[nltk_data]   Package omw-1.4 is already up-to-date!\n"
     ]
    }
   ],
   "source": [
    "#!pip install nltk\n",
    "import nltk\n",
    "nltk.download('punkt')\n",
    "nltk.download('stopwords')\n",
    "nltk.download('wordnet')\n",
    "nltk.download('omw-1.4') # Added to fix error\n",
    "\n",
    "from nltk.corpus import stopwords\n",
    "from nltk.tokenize import word_tokenize\n",
    "from nltk.stem import WordNetLemmatizer\n",
    "import re\n"
   ]
  },
  {
   "cell_type": "markdown",
   "metadata": {
    "id": "mlHdYcXc4xTV"
   },
   "source": [
    "**Proceed with the text preprocessing**"
   ]
  },
  {
   "cell_type": "code",
   "execution_count": 8,
   "metadata": {
    "id": "Qre4lNXhXjXL"
   },
   "outputs": [],
   "source": [
    "# Define a lemmatizer object\n",
    "lemmatizer = WordNetLemmatizer()\n",
    "\n",
    "# Define the English stopwords\n",
    "stop_words = set(stopwords.words('english'))\n",
    "\n",
    "# Define a function to clean, tokenize, remove stop-words, and lemmatize text\n",
    "def preprocess_text(text):\n",
    "    # Check if the text is not a string (possibly NaN), and if so, replace it with an empty string\n",
    "    if not isinstance(text, str):\n",
    "        text = ''\n",
    "    # Lowercase the text\n",
    "    text = text.lower()\n",
    "    # Remove punctuation, numbers, and special characters\n",
    "    text = re.sub(r'[^a-z ]', '', text)\n",
    "    # Tokenize the text\n",
    "    tokens = word_tokenize(text)\n",
    "    # Remove stopwords and lemmatize the tokens\n",
    "    tokens = [lemmatizer.lemmatize(token) for token in tokens if token not in stop_words]\n",
    "    # Join the tokens back into a single string and return it\n",
    "    return ' '.join(tokens)\n",
    "\n",
    "# Combine the review columns into a single column and preprocess the text\n",
    "train_df['combined_review'] = (train_df['benefitsReview'].fillna('') + ' ' +\n",
    "                               train_df['sideEffectsReview'].fillna('') + ' ' +\n",
    "                               train_df['commentsReview'].fillna('')).apply(preprocess_text)\n",
    "test_df['combined_review'] = (test_df['benefitsReview'].fillna('') + ' ' +\n",
    "                              test_df['sideEffectsReview'].fillna('') + ' ' +\n",
    "                              test_df['commentsReview'].fillna('')).apply(preprocess_text)"
   ]
  },
  {
   "cell_type": "markdown",
   "metadata": {
    "id": "NhTz4YUaYhP-"
   },
   "source": [
    "**1. Exploratory Data Analysis (EDA):**"
   ]
  },
  {
   "cell_type": "code",
   "execution_count": 9,
   "metadata": {
    "colab": {
     "base_uri": "https://localhost:8080/",
     "height": 492
    },
    "id": "uzMpdHUtYls0",
    "outputId": "e210754a-9e0f-434b-ed92-43d9f32577d9"
   },
   "outputs": [
    {
     "data": {
      "image/png": "[encoded data removed]",
      "text/plain": [
       "<Figure size 1000x500 with 1 Axes>"
      ]
     },
     "metadata": {},
     "output_type": "display_data"
    }
   ],
   "source": [
    "import seaborn as sns\n",
    "import matplotlib.pyplot as plt\n",
    "\n",
    "plt.figure(figsize=(10, 5))\n",
    "sns.countplot(data=train_df, x='sentiment', palette='viridis')\n",
    "plt.xlabel('Sentiment', fontsize=14)\n",
    "plt.ylabel('Count', fontsize=14)\n",
    "plt.title('Distribution of Sentiments in the Dataset', fontsize=16)\n",
    "plt.xticks(rotation=45)\n",
    "plt.show()"
   ]
  },
  {
   "cell_type": "markdown",
   "metadata": {
    "id": "2tK31iRcYql0"
   },
   "source": [
    "**2. Vectorization:**"
   ]
  },
  {
   "cell_type": "code",
   "execution_count": 10,
   "metadata": {
    "id": "3kIFkUEeYxjN"
   },
   "outputs": [],
   "source": [
    "from sklearn.feature_extraction.text import TfidfVectorizer\n",
    "\n",
    "# TF-IDF Vectorization\n",
    "vectorizer = TfidfVectorizer(max_features=1000)\n",
    "X_train = vectorizer.fit_transform(train_df['combined_review'])\n",
    "X_test = vectorizer.transform(test_df['combined_review'])\n"
   ]
  },
  {
   "cell_type": "markdown",
   "metadata": {
    "id": "gqltUE1MY2i1"
   },
   "source": [
    "**3. Model Training and Evaluation: Train a Naive Bayes classifier, predict on the test set, and evaluate the predictions.**"
   ]
  },
  {
   "cell_type": "code",
   "execution_count": 11,
   "metadata": {
    "colab": {
     "base_uri": "https://localhost:8080/"
    },
    "id": "8rbRWY6iY7eF",
    "outputId": "f397e92c-93ea-44ec-a5d2-0ed3538540b5"
   },
   "outputs": [
    {
     "name": "stdout",
     "output_type": "stream",
     "text": [
      "              precision    recall  f1-score   support\n",
      "\n",
      "           0       0.89      0.09      0.16       197\n",
      "           1       0.00      0.00      0.00       169\n",
      "           2       0.66      1.00      0.79       670\n",
      "\n",
      "    accuracy                           0.66      1036\n",
      "   macro avg       0.52      0.36      0.32      1036\n",
      "weighted avg       0.60      0.66      0.54      1036\n",
      "\n"
     ]
    }
   ],
   "source": [
    "from sklearn.naive_bayes import MultinomialNB\n",
    "from sklearn.metrics import classification_report, confusion_matrix\n",
    "\n",
    "# Label encoding for the target variable\n",
    "y_train = train_df['sentiment'].replace({'positive': 2, 'neutral': 1, 'negative': 0})\n",
    "y_test = test_df['sentiment'].replace({'positive': 2, 'neutral': 1, 'negative': 0})\n",
    "\n",
    "# Naive Bayes Classifier\n",
    "nb_classifier = MultinomialNB()\n",
    "nb_classifier.fit(X_train, y_train)\n",
    "\n",
    "# Predictions\n",
    "y_pred = nb_classifier.predict(X_test)\n",
    "\n",
    "# Evaluation\n",
    "print(classification_report(y_test, y_pred, zero_division=0)) # zero_division=0 to get rid of warnings\n",
    "# UndefinedMetricWarning: Precision and F-score are ill-defined and being set to 0.0 in labels with no predicted samples.\n"
   ]
  },
  {
   "cell_type": "code",
   "execution_count": 12,
   "metadata": {},
   "outputs": [
    {
     "name": "stdout",
     "output_type": "stream",
     "text": [
      "              precision    recall  f1-score   support\n",
      "\n",
      "           0       0.89      0.09      0.16       197\n",
      "           1       1.00      0.00      0.00       169\n",
      "           2       0.66      1.00      0.79       670\n",
      "\n",
      "    accuracy                           0.66      1036\n",
      "   macro avg       0.85      0.36      0.32      1036\n",
      "weighted avg       0.76      0.66      0.54      1036\n",
      "\n"
     ]
    }
   ],
   "source": [
    "from sklearn.naive_bayes import MultinomialNB\n",
    "from sklearn.metrics import classification_report, confusion_matrix\n",
    "\n",
    "# Label encoding for the target variable\n",
    "y_train = train_df['sentiment'].replace({'positive': 2, 'neutral': 1, 'negative': 0})\n",
    "y_test = test_df['sentiment'].replace({'positive': 2, 'neutral': 1, 'negative': 0})\n",
    "\n",
    "# Naive Bayes Classifier\n",
    "nb_classifier = MultinomialNB()\n",
    "nb_classifier.fit(X_train, y_train)\n",
    "\n",
    "# Predictions\n",
    "y_pred = nb_classifier.predict(X_test)\n",
    "\n",
    "# Evaluation\n",
    "print(classification_report(y_test, y_pred, zero_division=1)) # zero_division=1 results"
   ]
  },
  {
   "cell_type": "markdown",
   "metadata": {
    "id": "doYxIUmPlR3o"
   },
   "source": [
    "The labels 0, 1, and 2 represent 'negative', 'neutral', and 'positive' sentiments, respectively. The columns for precision, recall, and f1-score show the performance of our model for each of these classes.\n",
    "\n",
    "Negative sentiment (0): The model has a high precision (0.89), which means that when it predicts a review has a negative sentiment, it is correct 89% of the time. However, the recall is very low (0.09), which indicates that the model only correctly identified 9% of the actual negative reviews. The f1-score, which balances precision and recall, is low (0.16) due to the low recall. The model seems to struggle with identifying negative reviews.\n",
    "\n",
    "Neutral sentiment (1): The model has a precision, recall, and f1-score of 0. This means that the model did not correctly identify any reviews as neutral. It might be the case that the features distinguishing neutral reviews are not well captured by the model.\n",
    "\n",
    "Positive sentiment (2): The model performs best in identifying positive reviews. It has a precision of 0.66 and a recall of 1.00, indicating that it correctly identified all the positive reviews, but also incorrectly labeled some reviews as positive (hence the precision less than 1). The high f1-score (0.79) reflects this strong performance.\n",
    "\n",
    "The overall accuracy of our model is 0.66, which means it correctly predicts the sentiment 66% of the time.\n",
    "\n",
    "However, given the low performance for negative and neutral classes, we can consider strategies to improve our model's performance. These could include:\n",
    "\n",
    "Feature engineering: we could try to create new features that might help the model distinguish between the classes better. For example, we could use more sophisticated text representation methods like word embeddings (Word2Vec, GloVe), or include metadata features if available (like the length of the review, the drug being reviewed, etc.).\n",
    "\n",
    "Class balancing techniques: If our classes are imbalanced (i.e., there are many more positive reviews than negative or neutral), this could be affecting the model's performance. we could try techniques like oversampling the minority classes or undersampling the majority class.\n",
    "\n",
    "Model tuning: we could try adjusting the parameters of our model to see if we can improve performance. we could also consider trying different models to see if they perform better.\n",
    "\n",
    "Ensemble methods: we could try combining multiple models to make predictions. This often results in better performance than any single model."
   ]
  },
  {
   "cell_type": "markdown",
   "metadata": {
    "id": "TWpS42qh9lvK"
   },
   "source": [
    "**4. The AUC-ROC value**"
   ]
  },
  {
   "cell_type": "code",
   "execution_count": 13,
   "metadata": {
    "colab": {
     "base_uri": "https://localhost:8080/"
    },
    "id": "2UwRqnwu9mHv",
    "outputId": "5bd798db-bc95-4028-a39b-e02bb36def56"
   },
   "outputs": [
    {
     "name": "stdout",
     "output_type": "stream",
     "text": [
      "AUC-ROC: 0.52\n"
     ]
    }
   ],
   "source": [
    "from sklearn.metrics import roc_auc_score\n",
    "from sklearn.preprocessing import LabelBinarizer\n",
    "\n",
    "def multiclass_roc_auc_score(y_test, y_pred, average=\"macro\"):\n",
    "    lb = LabelBinarizer()\n",
    "    lb.fit(y_test)\n",
    "    y_test = lb.transform(y_test)\n",
    "    y_pred = lb.transform(y_pred)\n",
    "    return roc_auc_score(y_test, y_pred, average=average)\n",
    "\n",
    "auc = multiclass_roc_auc_score(y_test, y_pred)\n",
    "print('AUC-ROC:', round(auc, 2))\n"
   ]
  },
  {
   "cell_type": "markdown",
   "metadata": {
    "id": "APye1Oj1-BWO"
   },
   "source": [
    "The AUC-ROC value ranges from 0 to 1. An AUC-ROC value of 0.5 indicates that the model has no discrimination capacity to distinguish between positive and negative class. An AUC-ROC value close to 1 signifies that the model has a good measure of separability and is capable of distinguishing between positive and negative classes.\n",
    "\n",
    "The AUC-ROC score of 0.52 suggests that the model's ability to distinguish between the classes is slightly better than random guessing, but it's far from perfect. There's certainly room for improvement."
   ]
  },
  {
   "cell_type": "markdown",
   "metadata": {
    "id": "oR0492YZAPIw"
   },
   "source": [
    "**Let's train and evaluate a Support Vector Machines (SVM) classifier**"
   ]
  },
  {
   "cell_type": "code",
   "execution_count": 14,
   "metadata": {
    "colab": {
     "base_uri": "https://localhost:8080/"
    },
    "id": "dUbIWSM5lSVK",
    "outputId": "f1f2f0f4-0f28-4553-b0fd-bd89af40cbce"
   },
   "outputs": [
    {
     "name": "stdout",
     "output_type": "stream",
     "text": [
      "              precision    recall  f1-score   support\n",
      "\n",
      "           0       0.60      0.51      0.55       197\n",
      "           1       0.34      0.10      0.16       169\n",
      "           2       0.74      0.90      0.81       670\n",
      "\n",
      "    accuracy                           0.70      1036\n",
      "   macro avg       0.56      0.51      0.51      1036\n",
      "weighted avg       0.65      0.70      0.66      1036\n",
      "\n"
     ]
    }
   ],
   "source": [
    "from sklearn.svm import LinearSVC\n",
    "\n",
    "# Support Vector Classifier\n",
    "svm_classifier = LinearSVC()\n",
    "svm_classifier.fit(X_train, y_train)\n",
    "\n",
    "# Predictions\n",
    "y_pred_svm = svm_classifier.predict(X_test)\n",
    "\n",
    "# Evaluation\n",
    "print(classification_report(y_test, y_pred_svm))\n"
   ]
  },
  {
   "cell_type": "markdown",
   "metadata": {},
   "source": [
    "**Let's train and evaluate a Support Vector Machines (SVM) classifier with a K-Folds cross-validator**"
   ]
  },
  {
   "cell_type": "markdown",
   "metadata": {},
   "source": [
    "The K-Folds cross validation method splits the data into k equal parts, or folds. The training set consists of k-1 folds while the test set consists of the remaining fold. Fitting the model is done on each iteration until all folds have been used as the test set. Finding the average accuracy (score) of all the folds results in a more robust solution."
   ]
  },
  {
   "cell_type": "code",
   "execution_count": 16,
   "metadata": {},
   "outputs": [
    {
     "name": "stdout",
     "output_type": "stream",
     "text": [
      "SVM Classifier with cross validation (K-Fold method)\n",
      "Fold = 1\n",
      "              precision    recall  f1-score   support\n",
      "\n",
      "    negative       0.50      0.51      0.51       138\n",
      "     neutral       0.34      0.12      0.18       129\n",
      "    positive       0.76      0.87      0.81       562\n",
      "\n",
      "    accuracy                           0.70       829\n",
      "   macro avg       0.54      0.50      0.50       829\n",
      "weighted avg       0.66      0.70      0.67       829\n",
      "\n",
      "Fold = 2\n",
      "              precision    recall  f1-score   support\n",
      "\n",
      "    negative       0.56      0.37      0.45       147\n",
      "     neutral       0.20      0.11      0.14       101\n",
      "    positive       0.78      0.91      0.84       581\n",
      "\n",
      "    accuracy                           0.71       829\n",
      "   macro avg       0.51      0.46      0.48       829\n",
      "weighted avg       0.67      0.71      0.68       829\n",
      "\n",
      "Fold = 3\n",
      "              precision    recall  f1-score   support\n",
      "\n",
      "    negative       0.60      0.54      0.57       153\n",
      "     neutral       0.12      0.09      0.11        98\n",
      "    positive       0.79      0.84      0.81       578\n",
      "\n",
      "    accuracy                           0.70       829\n",
      "   macro avg       0.50      0.49      0.49       829\n",
      "weighted avg       0.67      0.70      0.68       829\n",
      "\n",
      "Fold = 4\n",
      "              precision    recall  f1-score   support\n",
      "\n",
      "    negative       0.61      0.48      0.54       154\n",
      "     neutral       0.34      0.12      0.17       130\n",
      "    positive       0.75      0.91      0.82       544\n",
      "\n",
      "    accuracy                           0.71       828\n",
      "   macro avg       0.57      0.50      0.51       828\n",
      "weighted avg       0.66      0.71      0.67       828\n",
      "\n",
      "Fold = 5\n",
      "              precision    recall  f1-score   support\n",
      "\n",
      "    negative       0.64      0.55      0.59       159\n",
      "     neutral       0.39      0.13      0.19       134\n",
      "    positive       0.75      0.91      0.82       535\n",
      "\n",
      "    accuracy                           0.71       828\n",
      "   macro avg       0.59      0.53      0.53       828\n",
      "weighted avg       0.67      0.71      0.67       828\n",
      "\n",
      "Average Accuracy for 5 folds = 0.7048049859268195\n"
     ]
    }
   ],
   "source": [
    "# k-fold cross validation\n",
    "import numpy as np\n",
    "from sklearn.model_selection import KFold\n",
    "from sklearn.model_selection import cross_val_score\n",
    "from sklearn.metrics import precision_recall_fscore_support\n",
    "\n",
    "# Combine training and testing data to form 1 dataset\n",
    "combined_df = pd.concat([train_df,test_df], ignore_index=True)\n",
    "\n",
    "# TF-IDF Vectorization\n",
    "vectorizer = TfidfVectorizer(max_features=1000)\n",
    "combined_X = vectorizer.fit_transform(combined_df['combined_review'])\n",
    "combined_y = combined_df['sentiment']\n",
    "\n",
    "# Initialize k-fold model\n",
    "num_splits = 5\n",
    "kf = KFold(n_splits=num_splits)\n",
    "\n",
    "# Support Vector Classifier\n",
    "svm_classifier = LinearSVC()\n",
    "\n",
    "# Initialize lists/variables\n",
    "accuracy = []\n",
    "num_folds = 1\n",
    "\n",
    "print(\"SVM Classifier with cross validation (K-Fold method)\")\n",
    "for train_index, test_index in kf.split(combined_X):\n",
    "    print(f\"Fold = {num_folds}\")\n",
    "    \n",
    "    # Split the data based on the new fold\n",
    "    X_train_kfold, X_test_kfold = combined_X[train_index], combined_X[test_index]\n",
    "    y_train_kfold, y_test_kfold = combined_y[train_index], combined_y[test_index]\n",
    "    \n",
    "    # Fit the training data\n",
    "    svm_classifier.fit(X_train_kfold, y_train_kfold)\n",
    "    \n",
    "    # Predictions\n",
    "    y_pred_svm = svm_classifier.predict(X_test_kfold)\n",
    "    \n",
    "    # Evaluation\n",
    "    print(classification_report(y_test_kfold, y_pred_svm))\n",
    "    accuracy.append(svm_classifier.score(X_test_kfold, y_test_kfold))\n",
    "    \n",
    "    num_folds=num_folds+1\n",
    "\n",
    "# Average accuracy over number of folds (num_splits)\n",
    "avg_accuracy = np.mean(accuracy)\n",
    "print(f\"Average Accuracy for {num_splits} folds = {avg_accuracy}\")"
   ]
  },
  {
   "cell_type": "markdown",
   "metadata": {
    "id": "SMui_vQmmioh"
   },
   "source": [
    "Let's interpret the results of the SVM Classifiers:\n",
    "\n",
    "Negative sentiment (0): The overall precision is around 0.61 and seems to increase as support increases. In other words, the more samples that were actually negative, the better the model performed when identifying negatives. The overall recall, the percentage of correct predicitions relative to the true number of negatives, also increased slightly as support increased. The overall F1-score is around 0.53.\n",
    "\n",
    "Neutral sentiment (1): The overall precision varies quite a bit. This might be due to the high variance in support with a minimum of 98 in fold 3 and a maximum of 134 in fold 5. The overall precision averages at around 0.27, which means that it correctly identifies a neutral review 27% of the time when the review is truly neutral. The recall stays relatively the same around 0.11, meaning the model only correctly identifies 11% of actual neutral reviews. The F1-score doesn't vary too much, staying around 0.16.\n",
    "\n",
    "Positive sentiment (2): The model performs best when identifying positive reviews. The overall precision is around 0.76, the overall recall is around 0.89, and the overall F1-score is around 0.82. The F1-score is close to 1, signifying an accurate model.\n",
    "\n",
    "The overall accuracy of the model is 0.70, which means it correctly predicts the sentiment 70% of the time. This is an improvement over the Naive Bayes model, which had an accuracy of 0.66.\n",
    "\n",
    "When comparing the overall results from the cross-validated SVM model to the results from the initial SVM model with no cross-validation, there does not seem to be too much difference. However, inspecting the individual folds of the cross-validated model can give more insight about how using different splits for the training and testing data can affect results. In folds where there were less samples for a neutral sentiment, the precision varies widely. This alludes to how the quantity of the data affects the results. \n",
    "\n",
    "The SVM model seems to be performing better than the Naive Bayes model, especially for negative sentiments. However, both models struggle with the neutral class. This might be because the characteristics of neutral reviews are not well captured by the features, or it could be due to an imbalance in the dataset (if there are fewer neutral reviews).\n",
    "\n",
    "Next steps could include further tuning the SVM model, trying different features, or trying a different type of model. Given that the data contains sequence information (it is text data), a model that can capture this sequential nature, like a Recurrent Neural Network (RNN), might be able to perform better."
   ]
  },
  {
   "cell_type": "markdown",
   "metadata": {
    "id": "6Jo_YU2vBKMK"
   },
   "source": [
    "Now that we've trained and evaluated a SVM model, the next step is to experiment with a deep learning model - Recurrent Neural Network (RNN) model for our sentiment analysis task.\n",
    "\n",
    "RNNs are a type of neural network that are great for sequential data, like text, because they have \"memory\" - they take as their input not just the current input, but also what they have perceived previously in time.\n",
    "\n",
    "However, setting up and training an RNN (especially on text data) can be quite complex and computationally expensive. It involves several additional steps such as:\n",
    "\n",
    "**Tokenization:** Converting the text into a sequence of integers (tokens).\n",
    "**Padding:** Making sure all the sequences are the same length by padding shorter ones with zeros.\n",
    "**Creating an embedding layer:** This is a layer in the neural network that converts the tokens into dense vectors of fixed size that the network can learn from. It's a way to reduce the dimensionality of the input data. **Building the RNN model:** This involves defining the architecture of the model. For example, we use an LSTM (Long Short-Term Memory) or GRU (Gated Recurrent Unit) layer, which are special types of RNN layers that can better capture long-term dependencies in the data.\n",
    "**Training the model:** This is the process of feeding our data through the network and updating the weights of the network to minimize the prediction error.\n",
    "**Evaluating the model:** This is similar to what we did with the SVM and Naive Bayes models - comparing the model's predictions on a test set to the actual labels to see how well the model is performing.\n",
    "\n",
    "All these steps require specific libraries and functions. In Python, the Keras library (which is part of TensorFlow) is commonly used for building and training RNNs."
   ]
  },
  {
   "cell_type": "markdown",
   "metadata": {
    "id": "E_TTnqueCg5W"
   },
   "source": [
    "**Install Tensoflow**"
   ]
  },
  {
   "cell_type": "code",
   "execution_count": 17,
   "metadata": {
    "colab": {
     "base_uri": "https://localhost:8080/"
    },
    "id": "VH9XxuC1mjEd",
    "outputId": "b1824820-5835-46e4-acaf-b4e3b6fe22f5"
   },
   "outputs": [
    {
     "name": "stdout",
     "output_type": "stream",
     "text": [
      "Requirement already satisfied: tensorflow in d:\\anaconda3\\lib\\site-packages (2.10.0)\n",
      "Requirement already satisfied: typing-extensions>=3.6.6 in d:\\anaconda3\\lib\\site-packages (from tensorflow) (4.4.0)\n",
      "Requirement already satisfied: opt-einsum>=2.3.2 in d:\\anaconda3\\lib\\site-packages (from tensorflow) (3.3.0)\n",
      "Requirement already satisfied: six>=1.12.0 in d:\\anaconda3\\lib\\site-packages (from tensorflow) (1.16.0)\n",
      "Requirement already satisfied: astunparse>=1.6.0 in d:\\anaconda3\\lib\\site-packages (from tensorflow) (1.6.3)\n",
      "Requirement already satisfied: flatbuffers>=2.0 in d:\\anaconda3\\lib\\site-packages (from tensorflow) (23.5.26)\n",
      "Requirement already satisfied: grpcio<2.0,>=1.24.3 in d:\\anaconda3\\lib\\site-packages (from tensorflow) (1.42.0)\n",
      "Requirement already satisfied: tensorflow-estimator<2.11,>=2.10.0 in d:\\anaconda3\\lib\\site-packages (from tensorflow) (2.10.0)\n",
      "Requirement already satisfied: protobuf<3.20,>=3.9.2 in d:\\anaconda3\\lib\\site-packages (from tensorflow) (3.19.6)\n",
      "Requirement already satisfied: tensorboard<2.11,>=2.10 in d:\\anaconda3\\lib\\site-packages (from tensorflow) (2.10.0)\n",
      "Requirement already satisfied: numpy>=1.20 in d:\\anaconda3\\lib\\site-packages (from tensorflow) (1.23.5)\n",
      "Requirement already satisfied: tensorflow-io-gcs-filesystem>=0.23.1 in d:\\anaconda3\\lib\\site-packages (from tensorflow) (0.31.0)\n",
      "Requirement already satisfied: wrapt>=1.11.0 in d:\\anaconda3\\lib\\site-packages (from tensorflow) (1.14.1)\n",
      "Requirement already satisfied: google-pasta>=0.1.1 in d:\\anaconda3\\lib\\site-packages (from tensorflow) (0.2.0)\n",
      "Requirement already satisfied: keras-preprocessing>=1.1.1 in d:\\anaconda3\\lib\\site-packages (from tensorflow) (1.1.2)\n",
      "Requirement already satisfied: absl-py>=1.0.0 in d:\\anaconda3\\lib\\site-packages (from tensorflow) (1.4.0)\n",
      "Requirement already satisfied: libclang>=13.0.0 in d:\\anaconda3\\lib\\site-packages (from tensorflow) (16.0.6)\n",
      "Requirement already satisfied: gast<=0.4.0,>=0.2.1 in d:\\anaconda3\\lib\\site-packages (from tensorflow) (0.4.0)\n",
      "Requirement already satisfied: setuptools in d:\\anaconda3\\lib\\site-packages (from tensorflow) (65.6.3)\n",
      "Requirement already satisfied: termcolor>=1.1.0 in d:\\anaconda3\\lib\\site-packages (from tensorflow) (2.3.0)\n",
      "Requirement already satisfied: packaging in d:\\anaconda3\\lib\\site-packages (from tensorflow) (22.0)\n",
      "Requirement already satisfied: keras<2.11,>=2.10.0 in d:\\anaconda3\\lib\\site-packages (from tensorflow) (2.10.0)\n",
      "Requirement already satisfied: h5py>=2.9.0 in d:\\anaconda3\\lib\\site-packages (from tensorflow) (3.7.0)\n",
      "Requirement already satisfied: wheel<1.0,>=0.23.0 in d:\\anaconda3\\lib\\site-packages (from astunparse>=1.6.0->tensorflow) (0.38.4)\n",
      "Requirement already satisfied: werkzeug>=1.0.1 in d:\\anaconda3\\lib\\site-packages (from tensorboard<2.11,>=2.10->tensorflow) (2.2.2)\n",
      "Requirement already satisfied: google-auth<3,>=1.6.3 in d:\\anaconda3\\lib\\site-packages (from tensorboard<2.11,>=2.10->tensorflow) (2.22.0)\n",
      "Requirement already satisfied: tensorboard-plugin-wit>=1.6.0 in d:\\anaconda3\\lib\\site-packages (from tensorboard<2.11,>=2.10->tensorflow) (1.8.1)\n",
      "Requirement already satisfied: requests<3,>=2.21.0 in d:\\anaconda3\\lib\\site-packages (from tensorboard<2.11,>=2.10->tensorflow) (2.28.1)\n",
      "Requirement already satisfied: tensorboard-data-server<0.7.0,>=0.6.0 in d:\\anaconda3\\lib\\site-packages (from tensorboard<2.11,>=2.10->tensorflow) (0.6.1)\n",
      "Requirement already satisfied: markdown>=2.6.8 in d:\\anaconda3\\lib\\site-packages (from tensorboard<2.11,>=2.10->tensorflow) (3.4.1)\n",
      "Requirement already satisfied: google-auth-oauthlib<0.5,>=0.4.1 in d:\\anaconda3\\lib\\site-packages (from tensorboard<2.11,>=2.10->tensorflow) (0.4.1)\n",
      "Requirement already satisfied: cachetools<6.0,>=2.0.0 in d:\\anaconda3\\lib\\site-packages (from google-auth<3,>=1.6.3->tensorboard<2.11,>=2.10->tensorflow) (5.3.1)\n",
      "Requirement already satisfied: rsa<5,>=3.1.4 in d:\\anaconda3\\lib\\site-packages (from google-auth<3,>=1.6.3->tensorboard<2.11,>=2.10->tensorflow) (4.9)\n",
      "Requirement already satisfied: urllib3<2.0 in d:\\anaconda3\\lib\\site-packages (from google-auth<3,>=1.6.3->tensorboard<2.11,>=2.10->tensorflow) (1.26.14)\n",
      "Requirement already satisfied: pyasn1-modules>=0.2.1 in d:\\anaconda3\\lib\\site-packages (from google-auth<3,>=1.6.3->tensorboard<2.11,>=2.10->tensorflow) (0.2.8)\n",
      "Requirement already satisfied: requests-oauthlib>=0.7.0 in d:\\anaconda3\\lib\\site-packages (from google-auth-oauthlib<0.5,>=0.4.1->tensorboard<2.11,>=2.10->tensorflow) (1.3.1)\n",
      "Requirement already satisfied: charset-normalizer<3,>=2 in d:\\anaconda3\\lib\\site-packages (from requests<3,>=2.21.0->tensorboard<2.11,>=2.10->tensorflow) (2.0.4)\n",
      "Requirement already satisfied: certifi>=2017.4.17 in d:\\anaconda3\\lib\\site-packages (from requests<3,>=2.21.0->tensorboard<2.11,>=2.10->tensorflow) (2023.7.22)\n",
      "Requirement already satisfied: idna<4,>=2.5 in d:\\anaconda3\\lib\\site-packages (from requests<3,>=2.21.0->tensorboard<2.11,>=2.10->tensorflow) (3.4)\n",
      "Requirement already satisfied: MarkupSafe>=2.1.1 in d:\\anaconda3\\lib\\site-packages (from werkzeug>=1.0.1->tensorboard<2.11,>=2.10->tensorflow) (2.1.1)\n",
      "Requirement already satisfied: pyasn1<0.5.0,>=0.4.6 in d:\\anaconda3\\lib\\site-packages (from pyasn1-modules>=0.2.1->google-auth<3,>=1.6.3->tensorboard<2.11,>=2.10->tensorflow) (0.4.8)\n",
      "Requirement already satisfied: oauthlib>=3.0.0 in d:\\anaconda3\\lib\\site-packages (from requests-oauthlib>=0.7.0->google-auth-oauthlib<0.5,>=0.4.1->tensorboard<2.11,>=2.10->tensorflow) (3.2.2)\n",
      "Note: you may need to restart the kernel to use updated packages.\n"
     ]
    }
   ],
   "source": [
    "pip install tensorflow\n"
   ]
  },
  {
   "cell_type": "markdown",
   "metadata": {
    "id": "a_V5bSq7CocS"
   },
   "source": [
    "**Install Keras**"
   ]
  },
  {
   "cell_type": "code",
   "execution_count": 30,
   "metadata": {
    "colab": {
     "base_uri": "https://localhost:8080/"
    },
    "id": "JYSL9ChInz2w",
    "outputId": "dfff3231-3d9e-4017-a885-e9ef7550ec93"
   },
   "outputs": [
    {
     "name": "stdout",
     "output_type": "stream",
     "text": [
      "Requirement already satisfied: keras in c:\\users\\slugg\\appdata\\roaming\\python\\python310\\site-packages (2.12.0)\n",
      "Requirement already satisfied: tensorflow in c:\\users\\slugg\\anaconda3\\lib\\site-packages (2.12.1)\n",
      "Requirement already satisfied: tensorflow-intel==2.12.1 in c:\\users\\slugg\\appdata\\roaming\\python\\python310\\site-packages (from tensorflow) (2.12.1)\n",
      "Requirement already satisfied: astunparse>=1.6.0 in c:\\users\\slugg\\anaconda3\\lib\\site-packages (from tensorflow-intel==2.12.1->tensorflow) (1.6.3)\n",
      "Requirement already satisfied: packaging in c:\\users\\slugg\\anaconda3\\lib\\site-packages (from tensorflow-intel==2.12.1->tensorflow) (22.0)\n",
      "Requirement already satisfied: tensorflow-io-gcs-filesystem>=0.23.1 in c:\\users\\slugg\\anaconda3\\lib\\site-packages (from tensorflow-intel==2.12.1->tensorflow) (0.31.0)\n",
      "Requirement already satisfied: termcolor>=1.1.0 in c:\\users\\slugg\\anaconda3\\lib\\site-packages (from tensorflow-intel==2.12.1->tensorflow) (2.3.0)\n",
      "Requirement already satisfied: typing-extensions<4.6.0,>=3.6.6 in c:\\users\\slugg\\anaconda3\\lib\\site-packages (from tensorflow-intel==2.12.1->tensorflow) (4.4.0)\n",
      "Requirement already satisfied: numpy<=1.24.3,>=1.22 in c:\\users\\slugg\\anaconda3\\lib\\site-packages (from tensorflow-intel==2.12.1->tensorflow) (1.23.5)\n",
      "Requirement already satisfied: google-pasta>=0.1.1 in c:\\users\\slugg\\anaconda3\\lib\\site-packages (from tensorflow-intel==2.12.1->tensorflow) (0.2.0)\n",
      "Requirement already satisfied: grpcio<2.0,>=1.24.3 in c:\\users\\slugg\\anaconda3\\lib\\site-packages (from tensorflow-intel==2.12.1->tensorflow) (1.56.2)\n",
      "Requirement already satisfied: flatbuffers>=2.0 in c:\\users\\slugg\\anaconda3\\lib\\site-packages (from tensorflow-intel==2.12.1->tensorflow) (23.5.26)\n",
      "Requirement already satisfied: libclang>=13.0.0 in c:\\users\\slugg\\anaconda3\\lib\\site-packages (from tensorflow-intel==2.12.1->tensorflow) (16.0.6)\n",
      "Requirement already satisfied: six>=1.12.0 in c:\\users\\slugg\\anaconda3\\lib\\site-packages (from tensorflow-intel==2.12.1->tensorflow) (1.16.0)\n",
      "Requirement already satisfied: h5py>=2.9.0 in c:\\users\\slugg\\anaconda3\\lib\\site-packages (from tensorflow-intel==2.12.1->tensorflow) (3.7.0)\n",
      "Requirement already satisfied: absl-py>=1.0.0 in c:\\users\\slugg\\anaconda3\\lib\\site-packages (from tensorflow-intel==2.12.1->tensorflow) (1.4.0)\n",
      "Requirement already satisfied: tensorboard<2.13,>=2.12 in c:\\users\\slugg\\appdata\\roaming\\python\\python310\\site-packages (from tensorflow-intel==2.12.1->tensorflow) (2.12.3)\n",
      "Requirement already satisfied: wrapt<1.15,>=1.11.0 in c:\\users\\slugg\\anaconda3\\lib\\site-packages (from tensorflow-intel==2.12.1->tensorflow) (1.14.1)\n",
      "Requirement already satisfied: gast<=0.4.0,>=0.2.1 in c:\\users\\slugg\\anaconda3\\lib\\site-packages (from tensorflow-intel==2.12.1->tensorflow) (0.4.0)\n",
      "Requirement already satisfied: jax>=0.3.15 in c:\\users\\slugg\\anaconda3\\lib\\site-packages (from tensorflow-intel==2.12.1->tensorflow) (0.4.14)\n",
      "Requirement already satisfied: tensorflow-estimator<2.13,>=2.12.0 in c:\\users\\slugg\\appdata\\roaming\\python\\python310\\site-packages (from tensorflow-intel==2.12.1->tensorflow) (2.12.0)\n",
      "Requirement already satisfied: protobuf!=4.21.0,!=4.21.1,!=4.21.2,!=4.21.3,!=4.21.4,!=4.21.5,<5.0.0dev,>=3.20.3 in c:\\users\\slugg\\anaconda3\\lib\\site-packages (from tensorflow-intel==2.12.1->tensorflow) (4.23.4)\n",
      "Requirement already satisfied: opt-einsum>=2.3.2 in c:\\users\\slugg\\anaconda3\\lib\\site-packages (from tensorflow-intel==2.12.1->tensorflow) (3.3.0)\n",
      "Requirement already satisfied: setuptools in c:\\users\\slugg\\anaconda3\\lib\\site-packages (from tensorflow-intel==2.12.1->tensorflow) (65.6.3)\n",
      "Requirement already satisfied: wheel<1.0,>=0.23.0 in c:\\users\\slugg\\anaconda3\\lib\\site-packages (from astunparse>=1.6.0->tensorflow-intel==2.12.1->tensorflow) (0.38.4)\n",
      "Requirement already satisfied: scipy>=1.7 in c:\\users\\slugg\\anaconda3\\lib\\site-packages (from jax>=0.3.15->tensorflow-intel==2.12.1->tensorflow) (1.10.0)\n",
      "Requirement already satisfied: ml-dtypes>=0.2.0 in c:\\users\\slugg\\anaconda3\\lib\\site-packages (from jax>=0.3.15->tensorflow-intel==2.12.1->tensorflow) (0.2.0)\n",
      "Requirement already satisfied: requests<3,>=2.21.0 in c:\\users\\slugg\\anaconda3\\lib\\site-packages (from tensorboard<2.13,>=2.12->tensorflow-intel==2.12.1->tensorflow) (2.28.1)\n",
      "Requirement already satisfied: markdown>=2.6.8 in c:\\users\\slugg\\anaconda3\\lib\\site-packages (from tensorboard<2.13,>=2.12->tensorflow-intel==2.12.1->tensorflow) (3.4.1)\n",
      "Requirement already satisfied: google-auth<3,>=1.6.3 in c:\\users\\slugg\\anaconda3\\lib\\site-packages (from tensorboard<2.13,>=2.12->tensorflow-intel==2.12.1->tensorflow) (2.22.0)\n",
      "Requirement already satisfied: google-auth-oauthlib<1.1,>=0.5 in c:\\users\\slugg\\anaconda3\\lib\\site-packages (from tensorboard<2.13,>=2.12->tensorflow-intel==2.12.1->tensorflow) (1.0.0)\n",
      "Requirement already satisfied: tensorboard-data-server<0.8.0,>=0.7.0 in c:\\users\\slugg\\anaconda3\\lib\\site-packages (from tensorboard<2.13,>=2.12->tensorflow-intel==2.12.1->tensorflow) (0.7.1)\n",
      "Requirement already satisfied: werkzeug>=1.0.1 in c:\\users\\slugg\\anaconda3\\lib\\site-packages (from tensorboard<2.13,>=2.12->tensorflow-intel==2.12.1->tensorflow) (2.2.2)\n",
      "Requirement already satisfied: urllib3<2.0 in c:\\users\\slugg\\anaconda3\\lib\\site-packages (from google-auth<3,>=1.6.3->tensorboard<2.13,>=2.12->tensorflow-intel==2.12.1->tensorflow) (1.26.14)\n",
      "Requirement already satisfied: rsa<5,>=3.1.4 in c:\\users\\slugg\\anaconda3\\lib\\site-packages (from google-auth<3,>=1.6.3->tensorboard<2.13,>=2.12->tensorflow-intel==2.12.1->tensorflow) (4.9)\n",
      "Requirement already satisfied: pyasn1-modules>=0.2.1 in c:\\users\\slugg\\anaconda3\\lib\\site-packages (from google-auth<3,>=1.6.3->tensorboard<2.13,>=2.12->tensorflow-intel==2.12.1->tensorflow) (0.2.8)\n",
      "Requirement already satisfied: cachetools<6.0,>=2.0.0 in c:\\users\\slugg\\anaconda3\\lib\\site-packages (from google-auth<3,>=1.6.3->tensorboard<2.13,>=2.12->tensorflow-intel==2.12.1->tensorflow) (5.3.1)\n",
      "Requirement already satisfied: requests-oauthlib>=0.7.0 in c:\\users\\slugg\\anaconda3\\lib\\site-packages (from google-auth-oauthlib<1.1,>=0.5->tensorboard<2.13,>=2.12->tensorflow-intel==2.12.1->tensorflow) (1.3.1)\n",
      "Requirement already satisfied: charset-normalizer<3,>=2 in c:\\users\\slugg\\anaconda3\\lib\\site-packages (from requests<3,>=2.21.0->tensorboard<2.13,>=2.12->tensorflow-intel==2.12.1->tensorflow) (2.0.4)\n",
      "Requirement already satisfied: idna<4,>=2.5 in c:\\users\\slugg\\anaconda3\\lib\\site-packages (from requests<3,>=2.21.0->tensorboard<2.13,>=2.12->tensorflow-intel==2.12.1->tensorflow) (3.4)\n",
      "Requirement already satisfied: certifi>=2017.4.17 in c:\\users\\slugg\\anaconda3\\lib\\site-packages (from requests<3,>=2.21.0->tensorboard<2.13,>=2.12->tensorflow-intel==2.12.1->tensorflow) (2023.5.7)\n",
      "Requirement already satisfied: MarkupSafe>=2.1.1 in c:\\users\\slugg\\anaconda3\\lib\\site-packages (from werkzeug>=1.0.1->tensorboard<2.13,>=2.12->tensorflow-intel==2.12.1->tensorflow) (2.1.1)\n",
      "Requirement already satisfied: pyasn1<0.5.0,>=0.4.6 in c:\\users\\slugg\\anaconda3\\lib\\site-packages (from pyasn1-modules>=0.2.1->google-auth<3,>=1.6.3->tensorboard<2.13,>=2.12->tensorflow-intel==2.12.1->tensorflow) (0.4.8)\n",
      "Requirement already satisfied: oauthlib>=3.0.0 in c:\\users\\slugg\\anaconda3\\lib\\site-packages (from requests-oauthlib>=0.7.0->google-auth-oauthlib<1.1,>=0.5->tensorboard<2.13,>=2.12->tensorflow-intel==2.12.1->tensorflow) (3.2.2)\n"
     ]
    },
    {
     "name": "stderr",
     "output_type": "stream",
     "text": [
      "WARNING: Ignoring invalid distribution -ensorflow-intel (c:\\users\\slugg\\anaconda3\\lib\\site-packages)\n",
      "WARNING: Ignoring invalid distribution -ensorflow-intel (c:\\users\\slugg\\anaconda3\\lib\\site-packages)\n",
      "WARNING: Ignoring invalid distribution -ensorflow-intel (c:\\users\\slugg\\anaconda3\\lib\\site-packages)\n",
      "WARNING: Ignoring invalid distribution -ensorflow-intel (c:\\users\\slugg\\anaconda3\\lib\\site-packages)\n",
      "WARNING: Ignoring invalid distribution -ensorflow-intel (c:\\users\\slugg\\anaconda3\\lib\\site-packages)\n",
      "WARNING: Ignoring invalid distribution -ensorflow-intel (c:\\users\\slugg\\anaconda3\\lib\\site-packages)\n"
     ]
    }
   ],
   "source": [
    "!pip install keras tensorflow\n"
   ]
  },
  {
   "cell_type": "markdown",
   "metadata": {
    "id": "V9iKMuKHrdwM"
   },
   "source": [
    "**Let's train an RNN model using Keras**\n",
    "\n",
    "Let's train the Long Short-Term Memory (LSTM) model which is a type of Recurrent Neural Network (RNN)."
   ]
  },
  {
   "cell_type": "code",
   "execution_count": 31,
   "metadata": {
    "colab": {
     "base_uri": "https://localhost:8080/"
    },
    "id": "xdv0oKTRrcFE",
    "outputId": "9fc46d7b-e77d-4485-98f2-890ece17d3fb"
   },
   "outputs": [
    {
     "name": "stdout",
     "output_type": "stream",
     "text": [
      "Epoch 1/5\n",
      "98/98 [==============================] - 19s 149ms/step - loss: 0.8822 - accuracy: 0.6788 - val_loss: 0.8638 - val_accuracy: 0.6467\n",
      "Epoch 2/5\n",
      "98/98 [==============================] - 14s 139ms/step - loss: 0.7045 - accuracy: 0.7258 - val_loss: 0.7968 - val_accuracy: 0.6795\n",
      "Epoch 3/5\n",
      "98/98 [==============================] - 14s 145ms/step - loss: 0.5138 - accuracy: 0.7979 - val_loss: 0.9127 - val_accuracy: 0.6844\n",
      "Epoch 4/5\n",
      "98/98 [==============================] - 14s 144ms/step - loss: 0.3968 - accuracy: 0.8375 - val_loss: 1.0495 - val_accuracy: 0.6766\n",
      "Epoch 5/5\n",
      "98/98 [==============================] - 16s 169ms/step - loss: 0.2750 - accuracy: 0.8935 - val_loss: 1.2744 - val_accuracy: 0.6535\n",
      "33/33 [==============================] - 2s 52ms/step - loss: 1.2744 - accuracy: 0.6535\n",
      "Test Loss: 1.27\n",
      "Test Accuracy: 0.65\n"
     ]
    }
   ],
   "source": [
    "from tensorflow.keras.preprocessing.text import Tokenizer\n",
    "from tensorflow.keras.preprocessing.sequence import pad_sequences\n",
    "from tensorflow.keras.models import Sequential\n",
    "from tensorflow.keras.layers import Embedding, LSTM, Dense, Dropout\n",
    "\n",
    "# Maximum number of words to keep based on word frequency\n",
    "max_words = 5000\n",
    "\n",
    "# Maximum length of the sequences\n",
    "max_len = 100\n",
    "\n",
    "# Tokenization\n",
    "tokenizer = Tokenizer(num_words=max_words, oov_token='<OOV>')\n",
    "tokenizer.fit_on_texts(train_df['combined_review'])\n",
    "sequences_train = tokenizer.texts_to_sequences(train_df['combined_review'])\n",
    "sequences_test = tokenizer.texts_to_sequences(test_df['combined_review'])\n",
    "\n",
    "# Padding\n",
    "X_train = pad_sequences(sequences_train, maxlen=max_len)\n",
    "X_test = pad_sequences(sequences_test, maxlen=max_len)\n",
    "\n",
    "# Labels\n",
    "y_train = train_df['sentiment'].replace({'positive': 2, 'neutral': 1, 'negative': 0}).values\n",
    "y_test = test_df['sentiment'].replace({'positive': 2, 'neutral': 1, 'negative': 0}).values\n",
    "\n",
    "# Building the LSTM model\n",
    "model = Sequential()\n",
    "model.add(Embedding(input_dim=max_words, output_dim=64, input_length=max_len))\n",
    "model.add(LSTM(64))\n",
    "model.add(Dense(64, activation='relu'))\n",
    "model.add(Dropout(0.5))\n",
    "model.add(Dense(3, activation='softmax'))  # 3 classes: positive, neutral, negative\n",
    "\n",
    "# Compiling the model\n",
    "model.compile(loss='sparse_categorical_crossentropy', optimizer='adam', metrics=['accuracy'])\n",
    "\n",
    "# Training the model\n",
    "model.fit(X_train, y_train, epochs=5, validation_data=(X_test, y_test))\n",
    "\n",
    "# Evaluating the model\n",
    "loss, accuracy = model.evaluate(X_test, y_test)\n",
    "print('Test Loss:', round(loss, 2))\n",
    "print('Test Accuracy:', round(accuracy, 2))\n"
   ]
  },
  {
   "cell_type": "markdown",
   "metadata": {
    "id": "DEIQE9ObtQIc"
   },
   "source": [
    "**Here's a breakdown of the output:**\n",
    "\n",
    "**Epochs:** we trained the model for 5 epochs. In each epoch, the model went through the entire training dataset once.\n",
    "\n",
    "**Training Loss and Accuracy:** These values represent how well our model is doing on the training data. The training loss decreased with each epoch, which is a good sign. It means the model's predictions are getting closer to the actual values. The accuracy increased with each epoch, which indicates the model is correctly classifying a higher percentage of reviews.\n",
    "\n",
    "**Validation Loss and Accuracy:** These values represent how well our model is expected to perform on unseen data, based on its performance on the validation set. Ideally, we want the validation loss to decrease and the validation accuracy to increase, just like the training metrics. However, in this case, the validation loss increased and the validation accuracy didn't improve significantly. This may indicate overfitting, meaning the model is fitting the training data too closely and not generalizing well to new data.\n",
    "\n",
    "**Test Loss and Accuracy:** After training, we evaluated the model on the test set, which it hadn't seen before. The test loss and accuracy give us an unbiased estimate of how our model will perform on new data. In this case, the test accuracy is approximately 67.7%, meaning the model correctly classified about 67.7% of the reviews in the test set.\n",
    "\n",
    "Overall, our LSTM model has learned to classify the sentiment of drug reviews with a reasonable degree of accuracy. However, there's likely room for improvement. At this time, we want to experiment with different model architectures, add regularization techniques (like dropout), or try different hyperparameters to improve the model's performance."
   ]
  },
  {
   "cell_type": "markdown",
   "metadata": {
    "id": "By5nFJuzHZMz"
   },
   "source": [
    "**Add More LSTM Layers:** Stacking LSTM layers can often lead to better performance. We can add another LSTM layer."
   ]
  },
  {
   "cell_type": "code",
   "execution_count": 32,
   "metadata": {
    "id": "r6TJwzK2tQrD"
   },
   "outputs": [],
   "source": [
    "model = Sequential()\n",
    "model.add(Embedding(input_dim=max_words, output_dim=64, input_length=max_len))\n",
    "model.add(LSTM(64, return_sequences=True))  # return_sequences must be True for stacking\n",
    "model.add(LSTM(64))\n",
    "model.add(Dense(64, activation='relu'))\n",
    "model.add(Dropout(0.5))\n",
    "model.add(Dense(3, activation='softmax'))\n"
   ]
  },
  {
   "cell_type": "markdown",
   "metadata": {
    "id": "Gl9yq1SdtShI"
   },
   "source": [
    "**Change the LSTM to a Bidirectional LSTM:** Bidirectional LSTMs can capture patterns from both the beginning and end of a sequence, which can be helpful in understanding the context."
   ]
  },
  {
   "cell_type": "code",
   "execution_count": 33,
   "metadata": {
    "id": "_KSj7ZoOtS4F"
   },
   "outputs": [],
   "source": [
    "from keras.layers import Bidirectional\n",
    "\n",
    "model = Sequential()\n",
    "model.add(Embedding(input_dim=max_words, output_dim=64, input_length=max_len))\n",
    "model.add(Bidirectional(LSTM(64)))\n",
    "model.add(Dense(64, activation='relu'))\n",
    "model.add(Dropout(0.5))\n",
    "model.add(Dense(3, activation='softmax'))\n"
   ]
  },
  {
   "cell_type": "markdown",
   "metadata": {
    "id": "hA_TsiSwti2V"
   },
   "source": [
    "**Use a Different Type of RNN:** We try using a Gated Recurrent Unit (GRU) instead of an LSTM. GRUs are a variation of LSTMs that are a bit simpler and can sometimes perform just as well."
   ]
  },
  {
   "cell_type": "code",
   "execution_count": 34,
   "metadata": {
    "id": "_P75JqUrtjMv"
   },
   "outputs": [],
   "source": [
    "from keras.layers import GRU\n",
    "\n",
    "model = Sequential()\n",
    "model.add(Embedding(input_dim=max_words, output_dim=64, input_length=max_len))\n",
    "model.add(GRU(64))\n",
    "model.add(Dense(64, activation='relu'))\n",
    "model.add(Dropout(0.5))\n",
    "model.add(Dense(3, activation='softmax'))\n"
   ]
  },
  {
   "cell_type": "markdown",
   "metadata": {
    "id": "NKH5UGntts4-"
   },
   "source": [
    "**Add More Dense Layers:** We also add more Dense layers to our model. This can sometimes improve performance, but it may also increase the risk of overfitting."
   ]
  },
  {
   "cell_type": "code",
   "execution_count": 35,
   "metadata": {
    "id": "esdEbdTottTs"
   },
   "outputs": [],
   "source": [
    "model = Sequential()\n",
    "model.add(Embedding(input_dim=max_words, output_dim=64, input_length=max_len))\n",
    "model.add(LSTM(64))\n",
    "model.add(Dense(64, activation='relu'))\n",
    "model.add(Dense(64, activation='relu'))  # additional Dense layer\n",
    "model.add(Dropout(0.5))\n",
    "model.add(Dense(3, activation='softmax'))\n"
   ]
  },
  {
   "cell_type": "markdown",
   "metadata": {
    "id": "jLEh3foguTBi"
   },
   "source": [
    "**Adding an extra LSTM layer: Update Model Architecture:**"
   ]
  },
  {
   "cell_type": "code",
   "execution_count": 36,
   "metadata": {
    "id": "3bcgqf73uUig"
   },
   "outputs": [],
   "source": [
    "from keras.models import Sequential\n",
    "from keras.layers import Embedding, LSTM, Dense, Dropout\n",
    "\n",
    "# Build the model\n",
    "model = Sequential()\n",
    "model.add(Embedding(input_dim=max_words, output_dim=64, input_length=max_len))\n",
    "model.add(LSTM(64, return_sequences=True))  # First LSTM layer with return_sequences=True\n",
    "model.add(LSTM(64))  # Second LSTM layer\n",
    "model.add(Dense(64, activation='relu'))\n",
    "model.add(Dropout(0.5))\n",
    "model.add(Dense(3, activation='softmax'))  # 3 classes: positive, neutral, negative\n"
   ]
  },
  {
   "cell_type": "markdown",
   "metadata": {
    "id": "8SOQ-YTcuZIH"
   },
   "source": [
    "**Train the Model:**"
   ]
  },
  {
   "cell_type": "code",
   "execution_count": 37,
   "metadata": {
    "colab": {
     "base_uri": "https://localhost:8080/"
    },
    "id": "yTU0vGpQufht",
    "outputId": "ce24da4a-786d-4df0-fe56-5ef8b3dee84a"
   },
   "outputs": [
    {
     "name": "stdout",
     "output_type": "stream",
     "text": [
      "Epoch 1/5\n",
      "98/98 [==============================] - 36s 280ms/step - loss: 0.8676 - accuracy: 0.6820 - val_loss: 0.8122 - val_accuracy: 0.6458\n",
      "Epoch 2/5\n",
      "98/98 [==============================] - 24s 245ms/step - loss: 0.6551 - accuracy: 0.7451 - val_loss: 0.7836 - val_accuracy: 0.6979\n",
      "Epoch 3/5\n",
      "98/98 [==============================] - 24s 244ms/step - loss: 0.4811 - accuracy: 0.8133 - val_loss: 0.9053 - val_accuracy: 0.7017\n",
      "Epoch 4/5\n",
      "98/98 [==============================] - 23s 239ms/step - loss: 0.3726 - accuracy: 0.8494 - val_loss: 0.9791 - val_accuracy: 0.6544\n",
      "Epoch 5/5\n",
      "98/98 [==============================] - 24s 241ms/step - loss: 0.2938 - accuracy: 0.8870 - val_loss: 1.4573 - val_accuracy: 0.6274\n"
     ]
    },
    {
     "data": {
      "text/plain": [
       "<keras.callbacks.History at 0x26836c82e00>"
      ]
     },
     "execution_count": 37,
     "metadata": {},
     "output_type": "execute_result"
    }
   ],
   "source": [
    "# Compile the model\n",
    "model.compile(loss='sparse_categorical_crossentropy', optimizer='adam', metrics=['accuracy'])\n",
    "\n",
    "# Train the model\n",
    "model.fit(X_train, y_train, epochs=5, validation_data=(X_test, y_test))\n"
   ]
  },
  {
   "cell_type": "markdown",
   "metadata": {
    "id": "eRr3PnwfvGI0"
   },
   "source": [
    "**Evaluate the Model:**"
   ]
  },
  {
   "cell_type": "code",
   "execution_count": 38,
   "metadata": {
    "colab": {
     "base_uri": "https://localhost:8080/"
    },
    "id": "UCB6SiwTvHt4",
    "outputId": "94416fd4-c4ba-43b0-ee94-a630f777f98c"
   },
   "outputs": [
    {
     "name": "stdout",
     "output_type": "stream",
     "text": [
      "33/33 [==============================] - 3s 95ms/step - loss: 1.4573 - accuracy: 0.6274\n",
      "Test Loss: 1.46\n",
      "Test Accuracy: 0.63\n"
     ]
    }
   ],
   "source": [
    "# Evaluate the model\n",
    "loss, accuracy = model.evaluate(X_test, y_test)\n",
    "print('Test Loss:', round(loss, 2))\n",
    "print('Test Accuracy:', round(accuracy, 2))\n"
   ]
  },
  {
   "cell_type": "markdown",
   "metadata": {
    "id": "PlbI1xk41bRZ"
   },
   "source": [
    "The test accuracy is approximately 63.51%, meaning the model correctly classified about 63.51% of the reviews in the test set. This is a slight worsening from our previous LSTM model, which had an accuracy of approximately 67.67%.  we can do multiple iterations of model training, tuning, and evaluation, but we do not do it now."
   ]
  },
  {
   "cell_type": "markdown",
   "metadata": {
    "id": "J-Htq7ldKSDZ"
   },
   "source": [
    "**Feature Engineering:**\n",
    "\n",
    "For using word embeddings (like Word2Vec or GloVe), we can use the gensim library. The embeddings can be used to replace the Embedding layer in our model. Here's a simple example with Word2Vec:"
   ]
  },
  {
   "cell_type": "code",
   "execution_count": 39,
   "metadata": {
    "colab": {
     "base_uri": "https://localhost:8080/"
    },
    "id": "4FUZ9VeA9pD0",
    "outputId": "59b35dfa-2e5f-49e2-f2f0-0ad1ca2aa14e"
   },
   "outputs": [
    {
     "name": "stdout",
     "output_type": "stream",
     "text": [
      "Requirement already satisfied: gensim in c:\\users\\slugg\\anaconda3\\lib\\site-packages (4.3.0)\n",
      "Collecting FuzzyTM>=0.4.0\n",
      "  Downloading FuzzyTM-2.0.5-py3-none-any.whl (29 kB)\n",
      "Requirement already satisfied: numpy>=1.18.5 in c:\\users\\slugg\\anaconda3\\lib\\site-packages (from gensim) (1.23.5)\n",
      "Requirement already satisfied: smart-open>=1.8.1 in c:\\users\\slugg\\anaconda3\\lib\\site-packages (from gensim) (5.2.1)\n",
      "Requirement already satisfied: scipy>=1.7.0 in c:\\users\\slugg\\anaconda3\\lib\\site-packages (from gensim) (1.10.0)\n",
      "Requirement already satisfied: pandas in c:\\users\\slugg\\anaconda3\\lib\\site-packages (from FuzzyTM>=0.4.0->gensim) (1.5.3)\n",
      "Collecting pyfume\n",
      "  Downloading pyFUME-0.2.25-py3-none-any.whl (67 kB)\n",
      "     ---------------------------------------- 67.1/67.1 kB 1.8 MB/s eta 0:00:00\n",
      "Requirement already satisfied: pytz>=2020.1 in c:\\users\\slugg\\anaconda3\\lib\\site-packages (from pandas->FuzzyTM>=0.4.0->gensim) (2022.7)\n",
      "Requirement already satisfied: python-dateutil>=2.8.1 in c:\\users\\slugg\\anaconda3\\lib\\site-packages (from pandas->FuzzyTM>=0.4.0->gensim) (2.8.2)\n",
      "Collecting fst-pso\n",
      "  Downloading fst-pso-1.8.1.tar.gz (18 kB)\n",
      "  Preparing metadata (setup.py): started\n",
      "  Preparing metadata (setup.py): finished with status 'done'\n",
      "Collecting simpful\n",
      "  Downloading simpful-2.11.0-py3-none-any.whl (32 kB)\n",
      "Requirement already satisfied: six>=1.5 in c:\\users\\slugg\\anaconda3\\lib\\site-packages (from python-dateutil>=2.8.1->pandas->FuzzyTM>=0.4.0->gensim) (1.16.0)\n",
      "Collecting miniful\n",
      "  Downloading miniful-0.0.6.tar.gz (2.8 kB)\n",
      "  Preparing metadata (setup.py): started\n",
      "  Preparing metadata (setup.py): finished with status 'done'\n",
      "Building wheels for collected packages: fst-pso, miniful\n",
      "  Building wheel for fst-pso (setup.py): started\n",
      "  Building wheel for fst-pso (setup.py): finished with status 'done'\n",
      "  Created wheel for fst-pso: filename=fst_pso-1.8.1-py3-none-any.whl size=20448 sha256=6595147691245d6ab74f046c02eb450deaf2115d6cd2d0a8db6ed28bb49e48a6\n",
      "  Stored in directory: c:\\users\\slugg\\appdata\\local\\pip\\cache\\wheels\\01\\02\\ee\\df0699282986903a384b69aab4413af9efd26b3612b5dccc9e\n",
      "  Building wheel for miniful (setup.py): started\n",
      "  Building wheel for miniful (setup.py): finished with status 'done'\n",
      "  Created wheel for miniful: filename=miniful-0.0.6-py3-none-any.whl size=3522 sha256=b7036512ef37ba60c64c5c19292ad58f8ac26bcc25caf1e8ee3f68e44ea2a214\n",
      "  Stored in directory: c:\\users\\slugg\\appdata\\local\\pip\\cache\\wheels\\43\\aa\\48\\5c66b931ff013ad19774081aa19656637af5c0cc33b5494b30\n",
      "Successfully built fst-pso miniful\n",
      "Installing collected packages: simpful, miniful, fst-pso, pyfume, FuzzyTM\n",
      "Successfully installed FuzzyTM-2.0.5 fst-pso-1.8.1 miniful-0.0.6 pyfume-0.2.25 simpful-2.11.0\n"
     ]
    },
    {
     "name": "stderr",
     "output_type": "stream",
     "text": [
      "WARNING: Ignoring invalid distribution -ensorflow-intel (c:\\users\\slugg\\anaconda3\\lib\\site-packages)\n",
      "WARNING: Ignoring invalid distribution -ensorflow-intel (c:\\users\\slugg\\anaconda3\\lib\\site-packages)\n",
      "WARNING: Ignoring invalid distribution -ensorflow-intel (c:\\users\\slugg\\anaconda3\\lib\\site-packages)\n",
      "WARNING: Ignoring invalid distribution -ensorflow-intel (c:\\users\\slugg\\anaconda3\\lib\\site-packages)\n",
      "WARNING: Ignoring invalid distribution -ensorflow-intel (c:\\users\\slugg\\anaconda3\\lib\\site-packages)\n",
      "WARNING: Ignoring invalid distribution -ensorflow-intel (c:\\users\\slugg\\anaconda3\\lib\\site-packages)\n",
      "WARNING: Ignoring invalid distribution -ensorflow-intel (c:\\users\\slugg\\anaconda3\\lib\\site-packages)\n",
      "WARNING: Ignoring invalid distribution -ensorflow-intel (c:\\users\\slugg\\anaconda3\\lib\\site-packages)\n",
      "WARNING: Ignoring invalid distribution -ensorflow-intel (c:\\users\\slugg\\anaconda3\\lib\\site-packages)\n",
      "WARNING: Ignoring invalid distribution -ensorflow-intel (c:\\users\\slugg\\anaconda3\\lib\\site-packages)\n",
      "WARNING: Ignoring invalid distribution -ensorflow-intel (c:\\users\\slugg\\anaconda3\\lib\\site-packages)\n"
     ]
    }
   ],
   "source": [
    "!pip install gensim\n"
   ]
  },
  {
   "cell_type": "code",
   "execution_count": 40,
   "metadata": {
    "id": "RS82oCKDFeks"
   },
   "outputs": [],
   "source": [
    "from gensim.models import Word2Vec"
   ]
  },
  {
   "cell_type": "code",
   "execution_count": 41,
   "metadata": {
    "id": "1QETh3gMFs0F"
   },
   "outputs": [],
   "source": [
    "reviews = train_df['combined_review'].values.tolist()\n"
   ]
  },
  {
   "cell_type": "code",
   "execution_count": 42,
   "metadata": {
    "id": "7ePKd5wrGi0C"
   },
   "outputs": [],
   "source": [
    "decoded_reviews = [review.lower().split() for review in reviews]\n"
   ]
  },
  {
   "cell_type": "code",
   "execution_count": 43,
   "metadata": {
    "colab": {
     "base_uri": "https://localhost:8080/"
    },
    "id": "xTOsMaEgGmEh",
    "outputId": "331ae2bf-073f-44cb-8f9f-6ebb17ec57d7"
   },
   "outputs": [
    {
     "data": {
      "text/plain": [
       "(1721839, 1897610)"
      ]
     },
     "execution_count": 43,
     "metadata": {},
     "output_type": "execute_result"
    }
   ],
   "source": [
    "reviews = train_df['combined_review'].values.tolist()\n",
    "decoded_reviews = [review.lower().split() for review in reviews]\n",
    "w2v_model = Word2Vec(decoded_reviews, vector_size=64, window=5, min_count=1, workers=4)\n",
    "w2v_model.train(decoded_reviews, total_examples=w2v_model.corpus_count, epochs=10)\n"
   ]
  },
  {
   "cell_type": "code",
   "execution_count": 44,
   "metadata": {
    "colab": {
     "base_uri": "https://localhost:8080/"
    },
    "id": "JlICXMKvMEdA",
    "outputId": "b82be405-a412-4cbc-e69f-b9c8b92a9651"
   },
   "outputs": [],
   "source": [
    "import numpy as np\n",
    "\n",
    "# Define the model\n",
    "model = Sequential()\n",
    "model.add(Embedding(input_dim=5000, output_dim=64, input_length=max_len))\n",
    "model.add(LSTM(64))\n",
    "model.add(Dense(64, activation='relu'))\n",
    "model.add(Dropout(0.5))\n",
    "model.add(Dense(3, activation='softmax'))\n",
    "\n",
    "# Train a Word2Vec model on our corpus\n",
    "w2v_model = Word2Vec(decoded_reviews, vector_size=64, window=5, min_count=1, workers=4)\n",
    "w2v_model.train(decoded_reviews, total_examples=w2v_model.corpus_count, epochs=10)\n",
    "\n",
    "# Get the word vectors from the trained Word2Vec model\n",
    "embedding_matrix = np.zeros((5000, 64))\n",
    "for word, i in tokenizer.word_index.items():\n",
    "    if i < 5000:\n",
    "        if word in w2v_model.wv:\n",
    "            embedding_matrix[i] = w2v_model.wv[word]\n",
    "\n",
    "# Use the word vectors as weights in our Embedding layer\n",
    "model.layers[0].set_weights([embedding_matrix])\n",
    "model.layers[0].trainable = False\n"
   ]
  },
  {
   "cell_type": "code",
   "execution_count": 45,
   "metadata": {
    "colab": {
     "base_uri": "https://localhost:8080/"
    },
    "id": "wlshA6yRLvE7",
    "outputId": "7e6414a2-03eb-407e-aec7-7bab62b46e10"
   },
   "outputs": [],
   "source": [
    "# Define the model\n",
    "model = Sequential()\n",
    "model.add(Embedding(input_dim=5000, output_dim=64, input_length=max_len))\n",
    "model.add(LSTM(64))\n",
    "model.add(Dense(64, activation='relu'))\n",
    "model.add(Dropout(0.5))\n",
    "model.add(Dense(3, activation='softmax'))\n",
    "\n",
    "# Train a Word2Vec model on our corpus\n",
    "w2v_model = Word2Vec(decoded_reviews, vector_size=64, window=5, min_count=1, workers=4)\n",
    "w2v_model.train(decoded_reviews, total_examples=w2v_model.corpus_count, epochs=10)\n",
    "\n",
    "# Get the word vectors from the trained Word2Vec model\n",
    "embedding_matrix = np.zeros((5000, 64))\n",
    "for word, i in tokenizer.word_index.items():\n",
    "    if i < 5000:\n",
    "        if word in w2v_model.wv:\n",
    "            embedding_matrix[i] = w2v_model.wv[word]\n",
    "\n",
    "# Use the word vectors as weights in our Embedding layer\n",
    "model.layers[0].set_weights([embedding_matrix])\n",
    "model.layers[0].trainable = False\n"
   ]
  },
  {
   "cell_type": "code",
   "execution_count": 46,
   "metadata": {
    "colab": {
     "base_uri": "https://localhost:8080/"
    },
    "id": "MLW-WwwGMlnl",
    "outputId": "c3bc2129-0b00-4879-8992-a58d3bef0ddf"
   },
   "outputs": [
    {
     "name": "stdout",
     "output_type": "stream",
     "text": [
      "Epoch 1/5\n",
      "98/98 [==============================] - 17s 138ms/step - loss: 0.8685 - accuracy: 0.6704 - val_loss: 0.8644 - val_accuracy: 0.6467\n",
      "Epoch 2/5\n",
      "98/98 [==============================] - 12s 120ms/step - loss: 0.8249 - accuracy: 0.6859 - val_loss: 0.8676 - val_accuracy: 0.6477\n",
      "Epoch 3/5\n",
      "98/98 [==============================] - 10s 106ms/step - loss: 0.8118 - accuracy: 0.6855 - val_loss: 0.8366 - val_accuracy: 0.6496\n",
      "Epoch 4/5\n",
      "98/98 [==============================] - 11s 108ms/step - loss: 0.8013 - accuracy: 0.6862 - val_loss: 0.8909 - val_accuracy: 0.6274\n",
      "Epoch 5/5\n",
      "98/98 [==============================] - 11s 109ms/step - loss: 0.7800 - accuracy: 0.6952 - val_loss: 0.8283 - val_accuracy: 0.6573\n"
     ]
    },
    {
     "data": {
      "text/plain": [
       "<keras.callbacks.History at 0x26841c41e40>"
      ]
     },
     "execution_count": 46,
     "metadata": {},
     "output_type": "execute_result"
    }
   ],
   "source": [
    "# Compile the model\n",
    "model.compile(optimizer='adam', loss='sparse_categorical_crossentropy', metrics=['accuracy'])\n",
    "\n",
    "# Convert our labels to numpy arrays\n",
    "y_train = np.array(y_train)\n",
    "y_test = np.array(y_test)\n",
    "\n",
    "# Train the model\n",
    "model.fit(X_train, y_train, epochs=5, validation_data=(X_test, y_test))\n"
   ]
  },
  {
   "cell_type": "code",
   "execution_count": 47,
   "metadata": {
    "colab": {
     "base_uri": "https://localhost:8080/"
    },
    "id": "Uo8YUO7mNJia",
    "outputId": "c06e6cd5-a570-4e81-e98d-cb42b665c3c9"
   },
   "outputs": [
    {
     "name": "stdout",
     "output_type": "stream",
     "text": [
      "1/1 [==============================] - 1s 854ms/step\n",
      "2\n"
     ]
    }
   ],
   "source": [
    "# Assume `new_review` is our new text data\n",
    "new_review = [\"This is a review of the drug\"]\n",
    "\n",
    "# Tokenize the new review\n",
    "sequences_new = tokenizer.texts_to_sequences(new_review)\n",
    "\n",
    "# Pad the new review\n",
    "padded_new = pad_sequences(sequences_new, maxlen=max_len, padding='post', truncating='post')\n",
    "\n",
    "# Make a prediction\n",
    "pred = model.predict(padded_new)\n",
    "\n",
    "# The prediction will be a 3-element vector representing the probabilities of the review being 'negative', 'neutral', and 'positive'.\n",
    "# To get the class with the highest probability, we can use the `np.argmax()` function.\n",
    "sentiment = np.argmax(pred)\n",
    "\n",
    "print(sentiment)\n"
   ]
  },
  {
   "cell_type": "code",
   "execution_count": 48,
   "metadata": {
    "id": "KxeSs8McPFmw"
   },
   "outputs": [],
   "source": [
    "train_df['combined_review'] = train_df['benefitsReview'] + \" \" + train_df['sideEffectsReview'] + \" \" + train_df['commentsReview']\n",
    "test_df['combined_review'] = test_df['benefitsReview'] + \" \" + test_df['sideEffectsReview'] + \" \" + test_df['commentsReview']\n"
   ]
  },
  {
   "cell_type": "code",
   "execution_count": 49,
   "metadata": {
    "colab": {
     "base_uri": "https://localhost:8080/"
    },
    "id": "ch_6a-x7QK2_",
    "outputId": "02ac8f09-2466-4730-9f18-dd871313e549"
   },
   "outputs": [
    {
     "name": "stdout",
     "output_type": "stream",
     "text": [
      "10\n",
      "0\n"
     ]
    }
   ],
   "source": [
    "print(train_df['combined_review'].isna().sum())\n",
    "print(test_df['combined_review'].isna().sum())\n"
   ]
  },
  {
   "cell_type": "code",
   "execution_count": 50,
   "metadata": {
    "id": "eAuoj3PjS-Cv"
   },
   "outputs": [],
   "source": [
    "# Find the length of reviews\n",
    "review_length = [len(review) for review in sequences_train]\n",
    "\n",
    "# Find the maximum length\n",
    "max_len = max(review_length)\n",
    "\n",
    "# Now pad the sequences\n",
    "X_train_pad = pad_sequences(sequences_train, maxlen=max_len, padding='post')\n",
    "X_test_pad = pad_sequences(sequences_test, maxlen=max_len, padding='post')\n"
   ]
  },
  {
   "cell_type": "code",
   "execution_count": 51,
   "metadata": {
    "id": "mcSWIaJ1SvpI"
   },
   "outputs": [],
   "source": [
    "# Convert the 'combined_review' column to string\n",
    "train_df['combined_review'] = train_df['combined_review'].astype(str)\n",
    "test_df['combined_review'] = test_df['combined_review'].astype(str)\n",
    "\n",
    "# Now, tokenize and pad the training data\n",
    "sequences_train = tokenizer.texts_to_sequences(train_df['combined_review'])\n",
    "X_train_pad = pad_sequences(sequences_train, maxlen=max_len, padding='post')\n",
    "\n",
    "# Tokenize and pad the test data\n",
    "sequences_test = tokenizer.texts_to_sequences(test_df['combined_review'])\n",
    "X_test_pad = pad_sequences(sequences_test, maxlen=max_len, padding='post')\n",
    "\n",
    "# Replace 'y_train' and 'y_test' with our labels\n",
    "y_train = train_df['sentiment'].replace({'positive': 2, 'neutral': 1, 'negative': 0})\n",
    "y_test = test_df['sentiment'].replace({'positive': 2, 'neutral': 1, 'negative': 0})\n"
   ]
  },
  {
   "cell_type": "code",
   "execution_count": 52,
   "metadata": {
    "colab": {
     "base_uri": "https://localhost:8080/"
    },
    "id": "nbvKVMR8QNP-",
    "outputId": "91418172-6740-40d0-eba2-65bcb953dd10"
   },
   "outputs": [
    {
     "data": {
      "text/plain": [
       "(1665494, 3695940)"
      ]
     },
     "execution_count": 52,
     "metadata": {},
     "output_type": "execute_result"
    }
   ],
   "source": [
    "# Import the required library\n",
    "from gensim.models import Word2Vec\n",
    "\n",
    "# Convert the sequences back to text\n",
    "word_index = tokenizer.word_index\n",
    "reverse_word_index = dict([(value, key) for (key, value) in word_index.items()])\n",
    "decoded_reviews = [[reverse_word_index.get(i, '?') for i in sequence] for sequence in sequences_train]\n",
    "\n",
    "# Train the Word2Vec model\n",
    "w2v_model = Word2Vec(decoded_reviews, vector_size=64, window=5, min_count=1, workers=4)\n",
    "w2v_model.train(decoded_reviews, total_examples=w2v_model.corpus_count, epochs=10)\n"
   ]
  },
  {
   "cell_type": "markdown",
   "metadata": {
    "id": "hQ2pEnpPRCxF"
   },
   "source": [
    "**Build the LSTM model:**\n",
    "Now, we will build the LSTM model that will use the word embeddings from the trained Word2Vec model."
   ]
  },
  {
   "cell_type": "code",
   "execution_count": 53,
   "metadata": {
    "id": "rgJN5bFLQ6xt"
   },
   "outputs": [],
   "source": [
    "# Import the required libraries\n",
    "from keras.models import Sequential\n",
    "from keras.layers import Embedding, LSTM, Dense, Dropout\n",
    "\n",
    "# Define the model\n",
    "model = Sequential()\n",
    "model.add(Embedding(input_dim=5000, output_dim=64, input_length=max_len))\n",
    "model.add(LSTM(64))\n",
    "model.add(Dense(64, activation='relu'))\n",
    "model.add(Dropout(0.5))\n",
    "model.add(Dense(3, activation='softmax'))\n"
   ]
  },
  {
   "cell_type": "markdown",
   "metadata": {
    "id": "vvvcfLxNROfG"
   },
   "source": [
    "**Set the weights in the Embedding layer:**\n",
    "We now set the weights in the Embedding layer of the LSTM model to the word vectors obtained from the Word2Vec model."
   ]
  },
  {
   "cell_type": "code",
   "execution_count": 54,
   "metadata": {
    "id": "hMZuVqp9RgCZ"
   },
   "outputs": [],
   "source": [
    "# Get the word vectors from the trained Word2Vec model\n",
    "embedding_matrix = np.zeros((5000, 64))\n",
    "for word, i in tokenizer.word_index.items():\n",
    "    if i < 5000:\n",
    "        if word in w2v_model.wv:\n",
    "            embedding_matrix[i] = w2v_model.wv[word]\n",
    "\n",
    "# Use the word vectors as weights in the Embedding layer\n",
    "model.layers[0].set_weights([embedding_matrix])\n",
    "model.layers[0].trainable = False\n"
   ]
  },
  {
   "cell_type": "markdown",
   "metadata": {
    "id": "UgAS640xRl1B"
   },
   "source": [
    "**Compile and train the LSTM model:**\n",
    "Finally, We compile the LSTM model and train it using the tokenized and padded training data."
   ]
  },
  {
   "cell_type": "code",
   "execution_count": 55,
   "metadata": {
    "id": "TQSlJgvYSNVI"
   },
   "outputs": [],
   "source": [
    "# Import the necessary library\n",
    "from tensorflow.keras.preprocessing.sequence import pad_sequences\n",
    "\n",
    "# Define the maximum length of a sequence\n",
    "max_len = 100\n",
    "\n",
    "# Tokenize and pad the training data\n",
    "sequences_train = tokenizer.texts_to_sequences(train_df['combined_review'])\n",
    "X_train_pad = pad_sequences(sequences_train, maxlen=max_len, padding='post')\n",
    "\n",
    "# Tokenize and pad the test data\n",
    "sequences_test = tokenizer.texts_to_sequences(test_df['combined_review'])\n",
    "X_test_pad = pad_sequences(sequences_test, maxlen=max_len, padding='post')\n",
    "\n",
    "# Replace 'y_train' and 'y_test' with our labels\n",
    "y_train = train_df['sentiment'].replace({'positive': 2, 'neutral': 1, 'negative': 0})\n",
    "y_test = test_df['sentiment'].replace({'positive': 2, 'neutral': 1, 'negative': 0})\n"
   ]
  },
  {
   "cell_type": "code",
   "execution_count": 56,
   "metadata": {
    "id": "Or1kciFFWa6l"
   },
   "outputs": [],
   "source": [
    "# Find the length of reviews\n",
    "review_length = [len(review) for review in sequences_train]\n",
    "\n",
    "# Find the maximum length\n",
    "max_len = max(review_length)\n",
    "\n",
    "# Now pad the sequences\n",
    "X_train_pad = pad_sequences(sequences_train, maxlen=max_len, padding='post')\n",
    "X_test_pad = pad_sequences(sequences_test, maxlen=max_len, padding='post')\n",
    "\n",
    "# Define the model\n",
    "model = Sequential()\n",
    "model.add(Embedding(input_dim=5000, output_dim=64, input_length=max_len))  # Ensure `input_length=max_len`\n",
    "model.add(LSTM(64))\n",
    "model.add(Dense(64, activation='relu'))\n",
    "model.add(Dropout(0.5))\n",
    "model.add(Dense(3, activation='softmax'))\n"
   ]
  },
  {
   "cell_type": "code",
   "execution_count": 57,
   "metadata": {
    "colab": {
     "base_uri": "https://localhost:8080/"
    },
    "id": "D6zVJt2ORvtn",
    "outputId": "7d13651e-9c4c-4727-e94d-c6e3a54c6f9e"
   },
   "outputs": [
    {
     "name": "stdout",
     "output_type": "stream",
     "text": [
      "Epoch 1/5\n",
      "98/98 [==============================] - 121s 1s/step - loss: 0.8829 - accuracy: 0.6759 - val_loss: 0.8981 - val_accuracy: 0.6467\n",
      "Epoch 2/5\n",
      "98/98 [==============================] - 127s 1s/step - loss: 0.8567 - accuracy: 0.6855 - val_loss: 0.8998 - val_accuracy: 0.6467\n",
      "Epoch 3/5\n",
      "98/98 [==============================] - 117s 1s/step - loss: 0.8572 - accuracy: 0.6855 - val_loss: 0.8980 - val_accuracy: 0.6467\n",
      "Epoch 4/5\n",
      "98/98 [==============================] - 128s 1s/step - loss: 0.8508 - accuracy: 0.6855 - val_loss: 0.8940 - val_accuracy: 0.6467\n",
      "Epoch 5/5\n",
      "98/98 [==============================] - 125s 1s/step - loss: 0.8521 - accuracy: 0.6855 - val_loss: 0.8958 - val_accuracy: 0.6467\n"
     ]
    },
    {
     "data": {
      "text/plain": [
       "<keras.callbacks.History at 0x26834286950>"
      ]
     },
     "execution_count": 57,
     "metadata": {},
     "output_type": "execute_result"
    }
   ],
   "source": [
    "# Compile the model\n",
    "model.compile(optimizer='adam', loss='sparse_categorical_crossentropy', metrics=['accuracy'])\n",
    "\n",
    "# Train the model\n",
    "model.fit(X_train_pad, y_train, epochs=5, validation_data=(X_test_pad, y_test))\n"
   ]
  },
  {
   "cell_type": "markdown",
   "metadata": {
    "id": "oj97QKzkYvmw"
   },
   "source": [
    "**Evaluate the model:**\n",
    "After training the model, we can evaluate its performance on the test data."
   ]
  },
  {
   "cell_type": "code",
   "execution_count": 58,
   "metadata": {
    "colab": {
     "base_uri": "https://localhost:8080/"
    },
    "id": "yxVXUTcpYwBD",
    "outputId": "2f23d63a-86a0-4698-bce8-029148906d7e"
   },
   "outputs": [
    {
     "name": "stdout",
     "output_type": "stream",
     "text": [
      "33/33 [==============================] - 13s 391ms/step - loss: 0.8958 - accuracy: 0.6467\n",
      "Test Loss: 0.9\n",
      "Test Accuracy: 0.65\n"
     ]
    }
   ],
   "source": [
    "# Evaluate the model\n",
    "test_loss, test_accuracy = model.evaluate(X_test_pad, y_test)\n",
    "print('Test Loss: {}'.format(round(test_loss, 2)))\n",
    "print('Test Accuracy: {}'.format(round(test_accuracy, 2)))\n"
   ]
  },
  {
   "cell_type": "markdown",
   "metadata": {
    "id": "iZvNMuUfZUK_"
   },
   "source": [
    "It appears that our model has achieved an accuracy of approximately 65% on the test set, which is a reasonable starting point.\n",
    "\n",
    "However, the loss is still relatively high, which might suggest that the model could be further improved."
   ]
  },
  {
   "cell_type": "code",
   "execution_count": 59,
   "metadata": {
    "colab": {
     "base_uri": "https://localhost:8080/"
    },
    "id": "ocHwitfJKY5-",
    "outputId": "5824109c-25c2-49c0-8e4d-1de8d00d8b17"
   },
   "outputs": [
    {
     "name": "stdout",
     "output_type": "stream",
     "text": [
      "33/33 [==============================] - 13s 390ms/step\n"
     ]
    }
   ],
   "source": [
    "import numpy as np\n",
    "\n",
    "# Assuming y_pred_probs is our predicted probabilities for the test set\n",
    "y_pred_probs = model.predict(X_test_pad)\n",
    "\n",
    "# Use np.argmax to get class labels\n",
    "y_pred = np.argmax(y_pred_probs, axis=-1)\n"
   ]
  },
  {
   "cell_type": "code",
   "execution_count": 60,
   "metadata": {
    "colab": {
     "base_uri": "https://localhost:8080/"
    },
    "id": "q1mFqZ9qKgHL",
    "outputId": "e9e553d9-e9bf-455d-b9f0-18e66d9f8421"
   },
   "outputs": [
    {
     "name": "stdout",
     "output_type": "stream",
     "text": [
      "              precision    recall  f1-score   support\n",
      "\n",
      "           0       0.00      0.00      0.00       197\n",
      "           1       0.00      0.00      0.00       169\n",
      "           2       0.65      1.00      0.79       670\n",
      "\n",
      "    accuracy                           0.65      1036\n",
      "   macro avg       0.22      0.33      0.26      1036\n",
      "weighted avg       0.42      0.65      0.51      1036\n",
      "\n"
     ]
    }
   ],
   "source": [
    "from sklearn.metrics import classification_report\n",
    "\n",
    "# Compute precision, recall, and F1-score\n",
    "report = classification_report(y_test, y_pred, zero_division=0) # zero_division=0 to avoid warning.\n",
    "print(report)\n"
   ]
  },
  {
   "cell_type": "markdown",
   "metadata": {
    "id": "OlM2t_IfYTkq"
   },
   "source": [
    "\n",
    "The results show that our model is classifying almost everything into the third class (label 2). This is evident from the recall of 1.00 for class 2, and 0.00 for the other two classes. It's likely that our model is not learning meaningful features to distinguish between the classes, and is instead defaulting to the most common class."
   ]
  },
  {
   "cell_type": "code",
   "execution_count": 61,
   "metadata": {},
   "outputs": [
    {
     "name": "stdout",
     "output_type": "stream",
     "text": [
      "              precision    recall  f1-score   support\n",
      "\n",
      "           0       1.00      0.00      0.00       197\n",
      "           1       1.00      0.00      0.00       169\n",
      "           2       0.65      1.00      0.79       670\n",
      "\n",
      "    accuracy                           0.65      1036\n",
      "   macro avg       0.88      0.33      0.26      1036\n",
      "weighted avg       0.77      0.65      0.51      1036\n",
      "\n"
     ]
    }
   ],
   "source": [
    "from sklearn.metrics import classification_report\n",
    "\n",
    "# Compute precision, recall, and F1-score\n",
    "report = classification_report(y_test, y_pred, zero_division=1) # zero_division=1 results.\n",
    "print(report)\n"
   ]
  }
 ],
 "metadata": {
  "colab": {
   "include_colab_link": true,
   "provenance": []
  },
  "kernelspec": {
   "display_name": "Python 3 (ipykernel)",
   "language": "python",
   "name": "python3"
  },
  "language_info": {
   "codemirror_mode": {
    "name": "ipython",
    "version": 3
   },
   "file_extension": ".py",
   "mimetype": "text/x-python",
   "name": "python",
   "nbconvert_exporter": "python",
   "pygments_lexer": "ipython3",
   "version": "3.10.9"
  }
 },
 "nbformat": 4,
 "nbformat_minor": 4
}
